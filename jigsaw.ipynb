{
 "cells": [
  {
   "cell_type": "code",
   "execution_count": 1,
   "id": "87599bfa",
   "metadata": {
    "execution": {
     "iopub.execute_input": "2025-08-02T23:32:22.313388Z",
     "iopub.status.busy": "2025-08-02T23:32:22.312730Z",
     "iopub.status.idle": "2025-08-02T23:32:26.083758Z",
     "shell.execute_reply": "2025-08-02T23:32:26.082635Z"
    },
    "papermill": {
     "duration": 3.77841,
     "end_time": "2025-08-02T23:32:26.085927",
     "exception": false,
     "start_time": "2025-08-02T23:32:22.307517",
     "status": "completed"
    },
    "tags": []
   },
   "outputs": [],
   "source": [
    "# Importing Libraries\n",
    "import pandas as pd\n",
    "import re\n",
    "from sklearn.model_selection import train_test_split, cross_val_score\n",
    "from sklearn.feature_extraction.text import TfidfVectorizer\n",
    "from sklearn.linear_model import LogisticRegression\n",
    "from sklearn.metrics import f1_score, roc_auc_score\n",
    "from sklearn.preprocessing import OneHotEncoder\n",
    "from sklearn.compose import ColumnTransformer\n",
    "from sklearn.pipeline import Pipeline"
   ]
  },
  {
   "cell_type": "code",
   "execution_count": 2,
   "id": "40a45648",
   "metadata": {
    "execution": {
     "iopub.execute_input": "2025-08-02T23:32:26.094087Z",
     "iopub.status.busy": "2025-08-02T23:32:26.093579Z",
     "iopub.status.idle": "2025-08-02T23:32:26.180553Z",
     "shell.execute_reply": "2025-08-02T23:32:26.179492Z"
    },
    "papermill": {
     "duration": 0.092776,
     "end_time": "2025-08-02T23:32:26.182346",
     "exception": false,
     "start_time": "2025-08-02T23:32:26.089570",
     "status": "completed"
    },
    "tags": []
   },
   "outputs": [],
   "source": [
    "train_df = pd.read_csv('/kaggle/input/jigsaw-agile-community-rules/train.csv')\n",
    "test_df = pd.read_csv('/kaggle/input/jigsaw-agile-community-rules/test.csv')"
   ]
  },
  {
   "cell_type": "code",
   "execution_count": 3,
   "id": "61abaed5",
   "metadata": {
    "execution": {
     "iopub.execute_input": "2025-08-02T23:32:26.189775Z",
     "iopub.status.busy": "2025-08-02T23:32:26.189448Z",
     "iopub.status.idle": "2025-08-02T23:32:26.194110Z",
     "shell.execute_reply": "2025-08-02T23:32:26.193242Z"
    },
    "papermill": {
     "duration": 0.009992,
     "end_time": "2025-08-02T23:32:26.195487",
     "exception": false,
     "start_time": "2025-08-02T23:32:26.185495",
     "status": "completed"
    },
    "tags": []
   },
   "outputs": [],
   "source": [
    "# Cleaining the text and removing special characters\n",
    "def clean_text(text):\n",
    "    text = text.lower()\n",
    "    text = re.sub(r'[^a-zA-Z0-9\\s]','',text)\n",
    "    return text"
   ]
  },
  {
   "cell_type": "code",
   "execution_count": 4,
   "id": "cfb2044f",
   "metadata": {
    "execution": {
     "iopub.execute_input": "2025-08-02T23:32:26.202962Z",
     "iopub.status.busy": "2025-08-02T23:32:26.202608Z",
     "iopub.status.idle": "2025-08-02T23:32:26.226083Z",
     "shell.execute_reply": "2025-08-02T23:32:26.225221Z"
    },
    "papermill": {
     "duration": 0.028894,
     "end_time": "2025-08-02T23:32:26.227581",
     "exception": false,
     "start_time": "2025-08-02T23:32:26.198687",
     "status": "completed"
    },
    "tags": []
   },
   "outputs": [],
   "source": [
    "# Applying the cleaned text\n",
    "train_df['body'] = train_df['body'].apply(clean_text)\n",
    "test_df['body'] = test_df['body'].apply(clean_text)"
   ]
  },
  {
   "cell_type": "code",
   "execution_count": 5,
   "id": "c4348435",
   "metadata": {
    "execution": {
     "iopub.execute_input": "2025-08-02T23:32:26.235014Z",
     "iopub.status.busy": "2025-08-02T23:32:26.234357Z",
     "iopub.status.idle": "2025-08-02T23:32:26.249852Z",
     "shell.execute_reply": "2025-08-02T23:32:26.248828Z"
    },
    "papermill": {
     "duration": 0.021819,
     "end_time": "2025-08-02T23:32:26.252374",
     "exception": false,
     "start_time": "2025-08-02T23:32:26.230555",
     "status": "completed"
    },
    "tags": []
   },
   "outputs": [],
   "source": [
    "# Create a URL feature\n",
    "train_df['has_url'] = train_df['body'].str.contains('http').astype(int)\n",
    "test_df['has_url'] = train_df['body'].str.contains('http').astype(int)"
   ]
  },
  {
   "cell_type": "code",
   "execution_count": 6,
   "id": "1ac366ab",
   "metadata": {
    "execution": {
     "iopub.execute_input": "2025-08-02T23:32:26.259777Z",
     "iopub.status.busy": "2025-08-02T23:32:26.259475Z",
     "iopub.status.idle": "2025-08-02T23:32:26.267653Z",
     "shell.execute_reply": "2025-08-02T23:32:26.266903Z"
    },
    "papermill": {
     "duration": 0.01348,
     "end_time": "2025-08-02T23:32:26.268982",
     "exception": false,
     "start_time": "2025-08-02T23:32:26.255502",
     "status": "completed"
    },
    "tags": []
   },
   "outputs": [],
   "source": [
    "# Creating features and target values (i.e X and y)\n",
    "X = train_df[['body', 'rule', 'subreddit', 'has_url']]\n",
    "y = train_df['rule_violation']\n",
    "X_test = [['body', 'rule', 'subreddit', 'has_url']]"
   ]
  },
  {
   "cell_type": "code",
   "execution_count": 7,
   "id": "43cc3477",
   "metadata": {
    "execution": {
     "iopub.execute_input": "2025-08-02T23:32:26.275946Z",
     "iopub.status.busy": "2025-08-02T23:32:26.275555Z",
     "iopub.status.idle": "2025-08-02T23:32:26.283944Z",
     "shell.execute_reply": "2025-08-02T23:32:26.283032Z"
    },
    "papermill": {
     "duration": 0.013573,
     "end_time": "2025-08-02T23:32:26.285526",
     "exception": false,
     "start_time": "2025-08-02T23:32:26.271953",
     "status": "completed"
    },
    "tags": []
   },
   "outputs": [],
   "source": [
    "# Spliting the data (using val not test)\n",
    "X_train, X_val, y_train,y_val = train_test_split(X,y,test_size = 0.2, random_state = 42)"
   ]
  },
  {
   "cell_type": "code",
   "execution_count": 8,
   "id": "2db04401",
   "metadata": {
    "execution": {
     "iopub.execute_input": "2025-08-02T23:32:26.292467Z",
     "iopub.status.busy": "2025-08-02T23:32:26.292153Z",
     "iopub.status.idle": "2025-08-02T23:32:26.296961Z",
     "shell.execute_reply": "2025-08-02T23:32:26.296050Z"
    },
    "papermill": {
     "duration": 0.010001,
     "end_time": "2025-08-02T23:32:26.298510",
     "exception": false,
     "start_time": "2025-08-02T23:32:26.288509",
     "status": "completed"
    },
    "tags": []
   },
   "outputs": [],
   "source": [
    "# Encoding\n",
    "preprocessor = ColumnTransformer(\n",
    "    transformers = [\n",
    "        ('text', TfidfVectorizer(),'body'),\n",
    "        ('cat', OneHotEncoder(handle_unknown='ignore'),['subreddit', 'rule']),\n",
    "        ('num', 'passthrough',['has_url'])\n",
    "    ])"
   ]
  },
  {
   "cell_type": "code",
   "execution_count": 9,
   "id": "8111c14a",
   "metadata": {
    "execution": {
     "iopub.execute_input": "2025-08-02T23:32:26.306119Z",
     "iopub.status.busy": "2025-08-02T23:32:26.305441Z",
     "iopub.status.idle": "2025-08-02T23:32:26.729918Z",
     "shell.execute_reply": "2025-08-02T23:32:26.729095Z"
    },
    "papermill": {
     "duration": 0.430074,
     "end_time": "2025-08-02T23:32:26.731719",
     "exception": false,
     "start_time": "2025-08-02T23:32:26.301645",
     "status": "completed"
    },
    "tags": []
   },
   "outputs": [
    {
     "data": {
      "text/html": [
       "<style>#sk-container-id-1 {color: black;background-color: white;}#sk-container-id-1 pre{padding: 0;}#sk-container-id-1 div.sk-toggleable {background-color: white;}#sk-container-id-1 label.sk-toggleable__label {cursor: pointer;display: block;width: 100%;margin-bottom: 0;padding: 0.3em;box-sizing: border-box;text-align: center;}#sk-container-id-1 label.sk-toggleable__label-arrow:before {content: \"▸\";float: left;margin-right: 0.25em;color: #696969;}#sk-container-id-1 label.sk-toggleable__label-arrow:hover:before {color: black;}#sk-container-id-1 div.sk-estimator:hover label.sk-toggleable__label-arrow:before {color: black;}#sk-container-id-1 div.sk-toggleable__content {max-height: 0;max-width: 0;overflow: hidden;text-align: left;background-color: #f0f8ff;}#sk-container-id-1 div.sk-toggleable__content pre {margin: 0.2em;color: black;border-radius: 0.25em;background-color: #f0f8ff;}#sk-container-id-1 input.sk-toggleable__control:checked~div.sk-toggleable__content {max-height: 200px;max-width: 100%;overflow: auto;}#sk-container-id-1 input.sk-toggleable__control:checked~label.sk-toggleable__label-arrow:before {content: \"▾\";}#sk-container-id-1 div.sk-estimator input.sk-toggleable__control:checked~label.sk-toggleable__label {background-color: #d4ebff;}#sk-container-id-1 div.sk-label input.sk-toggleable__control:checked~label.sk-toggleable__label {background-color: #d4ebff;}#sk-container-id-1 input.sk-hidden--visually {border: 0;clip: rect(1px 1px 1px 1px);clip: rect(1px, 1px, 1px, 1px);height: 1px;margin: -1px;overflow: hidden;padding: 0;position: absolute;width: 1px;}#sk-container-id-1 div.sk-estimator {font-family: monospace;background-color: #f0f8ff;border: 1px dotted black;border-radius: 0.25em;box-sizing: border-box;margin-bottom: 0.5em;}#sk-container-id-1 div.sk-estimator:hover {background-color: #d4ebff;}#sk-container-id-1 div.sk-parallel-item::after {content: \"\";width: 100%;border-bottom: 1px solid gray;flex-grow: 1;}#sk-container-id-1 div.sk-label:hover label.sk-toggleable__label {background-color: #d4ebff;}#sk-container-id-1 div.sk-serial::before {content: \"\";position: absolute;border-left: 1px solid gray;box-sizing: border-box;top: 0;bottom: 0;left: 50%;z-index: 0;}#sk-container-id-1 div.sk-serial {display: flex;flex-direction: column;align-items: center;background-color: white;padding-right: 0.2em;padding-left: 0.2em;position: relative;}#sk-container-id-1 div.sk-item {position: relative;z-index: 1;}#sk-container-id-1 div.sk-parallel {display: flex;align-items: stretch;justify-content: center;background-color: white;position: relative;}#sk-container-id-1 div.sk-item::before, #sk-container-id-1 div.sk-parallel-item::before {content: \"\";position: absolute;border-left: 1px solid gray;box-sizing: border-box;top: 0;bottom: 0;left: 50%;z-index: -1;}#sk-container-id-1 div.sk-parallel-item {display: flex;flex-direction: column;z-index: 1;position: relative;background-color: white;}#sk-container-id-1 div.sk-parallel-item:first-child::after {align-self: flex-end;width: 50%;}#sk-container-id-1 div.sk-parallel-item:last-child::after {align-self: flex-start;width: 50%;}#sk-container-id-1 div.sk-parallel-item:only-child::after {width: 0;}#sk-container-id-1 div.sk-dashed-wrapped {border: 1px dashed gray;margin: 0 0.4em 0.5em 0.4em;box-sizing: border-box;padding-bottom: 0.4em;background-color: white;}#sk-container-id-1 div.sk-label label {font-family: monospace;font-weight: bold;display: inline-block;line-height: 1.2em;}#sk-container-id-1 div.sk-label-container {text-align: center;}#sk-container-id-1 div.sk-container {/* jupyter's `normalize.less` sets `[hidden] { display: none; }` but bootstrap.min.css set `[hidden] { display: none !important; }` so we also need the `!important` here to be able to override the default hidden behavior on the sphinx rendered scikit-learn.org. See: https://github.com/scikit-learn/scikit-learn/issues/21755 */display: inline-block !important;position: relative;}#sk-container-id-1 div.sk-text-repr-fallback {display: none;}</style><div id=\"sk-container-id-1\" class=\"sk-top-container\"><div class=\"sk-text-repr-fallback\"><pre>Pipeline(steps=[(&#x27;preprocessor&#x27;,\n",
       "                 ColumnTransformer(transformers=[(&#x27;text&#x27;, TfidfVectorizer(),\n",
       "                                                  &#x27;body&#x27;),\n",
       "                                                 (&#x27;cat&#x27;,\n",
       "                                                  OneHotEncoder(handle_unknown=&#x27;ignore&#x27;),\n",
       "                                                  [&#x27;subreddit&#x27;, &#x27;rule&#x27;]),\n",
       "                                                 (&#x27;num&#x27;, &#x27;passthrough&#x27;,\n",
       "                                                  [&#x27;has_url&#x27;])])),\n",
       "                (&#x27;classifier&#x27;, LogisticRegression())])</pre><b>In a Jupyter environment, please rerun this cell to show the HTML representation or trust the notebook. <br />On GitHub, the HTML representation is unable to render, please try loading this page with nbviewer.org.</b></div><div class=\"sk-container\" hidden><div class=\"sk-item sk-dashed-wrapped\"><div class=\"sk-label-container\"><div class=\"sk-label sk-toggleable\"><input class=\"sk-toggleable__control sk-hidden--visually\" id=\"sk-estimator-id-1\" type=\"checkbox\" ><label for=\"sk-estimator-id-1\" class=\"sk-toggleable__label sk-toggleable__label-arrow\">Pipeline</label><div class=\"sk-toggleable__content\"><pre>Pipeline(steps=[(&#x27;preprocessor&#x27;,\n",
       "                 ColumnTransformer(transformers=[(&#x27;text&#x27;, TfidfVectorizer(),\n",
       "                                                  &#x27;body&#x27;),\n",
       "                                                 (&#x27;cat&#x27;,\n",
       "                                                  OneHotEncoder(handle_unknown=&#x27;ignore&#x27;),\n",
       "                                                  [&#x27;subreddit&#x27;, &#x27;rule&#x27;]),\n",
       "                                                 (&#x27;num&#x27;, &#x27;passthrough&#x27;,\n",
       "                                                  [&#x27;has_url&#x27;])])),\n",
       "                (&#x27;classifier&#x27;, LogisticRegression())])</pre></div></div></div><div class=\"sk-serial\"><div class=\"sk-item sk-dashed-wrapped\"><div class=\"sk-label-container\"><div class=\"sk-label sk-toggleable\"><input class=\"sk-toggleable__control sk-hidden--visually\" id=\"sk-estimator-id-2\" type=\"checkbox\" ><label for=\"sk-estimator-id-2\" class=\"sk-toggleable__label sk-toggleable__label-arrow\">preprocessor: ColumnTransformer</label><div class=\"sk-toggleable__content\"><pre>ColumnTransformer(transformers=[(&#x27;text&#x27;, TfidfVectorizer(), &#x27;body&#x27;),\n",
       "                                (&#x27;cat&#x27;, OneHotEncoder(handle_unknown=&#x27;ignore&#x27;),\n",
       "                                 [&#x27;subreddit&#x27;, &#x27;rule&#x27;]),\n",
       "                                (&#x27;num&#x27;, &#x27;passthrough&#x27;, [&#x27;has_url&#x27;])])</pre></div></div></div><div class=\"sk-parallel\"><div class=\"sk-parallel-item\"><div class=\"sk-item\"><div class=\"sk-label-container\"><div class=\"sk-label sk-toggleable\"><input class=\"sk-toggleable__control sk-hidden--visually\" id=\"sk-estimator-id-3\" type=\"checkbox\" ><label for=\"sk-estimator-id-3\" class=\"sk-toggleable__label sk-toggleable__label-arrow\">text</label><div class=\"sk-toggleable__content\"><pre>body</pre></div></div></div><div class=\"sk-serial\"><div class=\"sk-item\"><div class=\"sk-estimator sk-toggleable\"><input class=\"sk-toggleable__control sk-hidden--visually\" id=\"sk-estimator-id-4\" type=\"checkbox\" ><label for=\"sk-estimator-id-4\" class=\"sk-toggleable__label sk-toggleable__label-arrow\">TfidfVectorizer</label><div class=\"sk-toggleable__content\"><pre>TfidfVectorizer()</pre></div></div></div></div></div></div><div class=\"sk-parallel-item\"><div class=\"sk-item\"><div class=\"sk-label-container\"><div class=\"sk-label sk-toggleable\"><input class=\"sk-toggleable__control sk-hidden--visually\" id=\"sk-estimator-id-5\" type=\"checkbox\" ><label for=\"sk-estimator-id-5\" class=\"sk-toggleable__label sk-toggleable__label-arrow\">cat</label><div class=\"sk-toggleable__content\"><pre>[&#x27;subreddit&#x27;, &#x27;rule&#x27;]</pre></div></div></div><div class=\"sk-serial\"><div class=\"sk-item\"><div class=\"sk-estimator sk-toggleable\"><input class=\"sk-toggleable__control sk-hidden--visually\" id=\"sk-estimator-id-6\" type=\"checkbox\" ><label for=\"sk-estimator-id-6\" class=\"sk-toggleable__label sk-toggleable__label-arrow\">OneHotEncoder</label><div class=\"sk-toggleable__content\"><pre>OneHotEncoder(handle_unknown=&#x27;ignore&#x27;)</pre></div></div></div></div></div></div><div class=\"sk-parallel-item\"><div class=\"sk-item\"><div class=\"sk-label-container\"><div class=\"sk-label sk-toggleable\"><input class=\"sk-toggleable__control sk-hidden--visually\" id=\"sk-estimator-id-7\" type=\"checkbox\" ><label for=\"sk-estimator-id-7\" class=\"sk-toggleable__label sk-toggleable__label-arrow\">num</label><div class=\"sk-toggleable__content\"><pre>[&#x27;has_url&#x27;]</pre></div></div></div><div class=\"sk-serial\"><div class=\"sk-item\"><div class=\"sk-estimator sk-toggleable\"><input class=\"sk-toggleable__control sk-hidden--visually\" id=\"sk-estimator-id-8\" type=\"checkbox\" ><label for=\"sk-estimator-id-8\" class=\"sk-toggleable__label sk-toggleable__label-arrow\">passthrough</label><div class=\"sk-toggleable__content\"><pre>passthrough</pre></div></div></div></div></div></div></div></div><div class=\"sk-item\"><div class=\"sk-estimator sk-toggleable\"><input class=\"sk-toggleable__control sk-hidden--visually\" id=\"sk-estimator-id-9\" type=\"checkbox\" ><label for=\"sk-estimator-id-9\" class=\"sk-toggleable__label sk-toggleable__label-arrow\">LogisticRegression</label><div class=\"sk-toggleable__content\"><pre>LogisticRegression()</pre></div></div></div></div></div></div></div>"
      ],
      "text/plain": [
       "Pipeline(steps=[('preprocessor',\n",
       "                 ColumnTransformer(transformers=[('text', TfidfVectorizer(),\n",
       "                                                  'body'),\n",
       "                                                 ('cat',\n",
       "                                                  OneHotEncoder(handle_unknown='ignore'),\n",
       "                                                  ['subreddit', 'rule']),\n",
       "                                                 ('num', 'passthrough',\n",
       "                                                  ['has_url'])])),\n",
       "                ('classifier', LogisticRegression())])"
      ]
     },
     "execution_count": 9,
     "metadata": {},
     "output_type": "execute_result"
    }
   ],
   "source": [
    "# Initializing the model pipeline\n",
    "model = Pipeline([\n",
    "    ('preprocessor', preprocessor),\n",
    "    ('classifier', LogisticRegression())\n",
    "])\n",
    "\n",
    "model.fit(X_train,y_train)"
   ]
  },
  {
   "cell_type": "code",
   "execution_count": 10,
   "id": "d2b0eb25",
   "metadata": {
    "execution": {
     "iopub.execute_input": "2025-08-02T23:32:26.743115Z",
     "iopub.status.busy": "2025-08-02T23:32:26.742731Z",
     "iopub.status.idle": "2025-08-02T23:32:26.773878Z",
     "shell.execute_reply": "2025-08-02T23:32:26.773073Z"
    },
    "papermill": {
     "duration": 0.039195,
     "end_time": "2025-08-02T23:32:26.776120",
     "exception": false,
     "start_time": "2025-08-02T23:32:26.736925",
     "status": "completed"
    },
    "tags": []
   },
   "outputs": [],
   "source": [
    "# Predicting \n",
    "y_pred = model.predict(X_val)"
   ]
  },
  {
   "cell_type": "code",
   "execution_count": 11,
   "id": "6dbde12f",
   "metadata": {
    "execution": {
     "iopub.execute_input": "2025-08-02T23:32:26.788709Z",
     "iopub.status.busy": "2025-08-02T23:32:26.788378Z",
     "iopub.status.idle": "2025-08-02T23:32:26.818348Z",
     "shell.execute_reply": "2025-08-02T23:32:26.817265Z"
    },
    "papermill": {
     "duration": 0.03802,
     "end_time": "2025-08-02T23:32:26.819944",
     "exception": false,
     "start_time": "2025-08-02T23:32:26.781924",
     "status": "completed"
    },
    "tags": []
   },
   "outputs": [
    {
     "name": "stdout",
     "output_type": "stream",
     "text": [
      "F1 Score: 74.260%\n",
      "ROC-AUC: 81.017%\n"
     ]
    }
   ],
   "source": [
    "#Evaluating the model\n",
    "print(f'F1 Score: {f1_score(y_val,y_pred)*100:.3f}%')\n",
    "print(f'ROC-AUC: {roc_auc_score(y_val, model.predict_proba(X_val)[:,1])*100:.3f}%')"
   ]
  },
  {
   "cell_type": "code",
   "execution_count": 12,
   "id": "93fd7f67",
   "metadata": {
    "execution": {
     "iopub.execute_input": "2025-08-02T23:32:26.827990Z",
     "iopub.status.busy": "2025-08-02T23:32:26.827601Z",
     "iopub.status.idle": "2025-08-02T23:32:28.657466Z",
     "shell.execute_reply": "2025-08-02T23:32:28.655429Z"
    },
    "papermill": {
     "duration": 1.835598,
     "end_time": "2025-08-02T23:32:28.658953",
     "exception": false,
     "start_time": "2025-08-02T23:32:26.823355",
     "status": "completed"
    },
    "tags": []
   },
   "outputs": [
    {
     "name": "stdout",
     "output_type": "stream",
     "text": [
      "Cross-Validation F1 Scores: 0.721, 0.016\n"
     ]
    }
   ],
   "source": [
    "# Cross Validation\n",
    "cv_scores = cross_val_score(model, X,y,cv=5,scoring ='f1')\n",
    "print(f'Cross-Validation F1 Scores: {cv_scores.mean():.3f}, {cv_scores.std():.3f}')"
   ]
  },
  {
   "cell_type": "code",
   "execution_count": 13,
   "id": "b4d1ff44",
   "metadata": {
    "execution": {
     "iopub.execute_input": "2025-08-02T23:32:28.671185Z",
     "iopub.status.busy": "2025-08-02T23:32:28.670833Z",
     "iopub.status.idle": "2025-08-02T23:32:28.694933Z",
     "shell.execute_reply": "2025-08-02T23:32:28.694088Z"
    },
    "papermill": {
     "duration": 0.032384,
     "end_time": "2025-08-02T23:32:28.696652",
     "exception": false,
     "start_time": "2025-08-02T23:32:28.664268",
     "status": "completed"
    },
    "tags": []
   },
   "outputs": [],
   "source": [
    "# Predicting on test data and saving to csv\n",
    "X_test = test_df[['body', 'subreddit', 'rule', 'has_url']]\n",
    "\n",
    "\n",
    "test_predictions = model.predict(X_test)\n",
    "submission = pd.DataFrame({'row_id':test_df['row_id'],'rule_violation':test_predictions})\n",
    "submission.to_csv('submission.csv', index = False)"
   ]
  },
  {
   "cell_type": "code",
   "execution_count": null,
   "id": "d6ec9847",
   "metadata": {
    "papermill": {
     "duration": 0.004927,
     "end_time": "2025-08-02T23:32:28.708474",
     "exception": false,
     "start_time": "2025-08-02T23:32:28.703547",
     "status": "completed"
    },
    "tags": []
   },
   "outputs": [],
   "source": []
  }
 ],
 "metadata": {
  "kaggle": {
   "accelerator": "none",
   "dataSources": [
    {
     "databundleVersionId": 13121456,
     "isSourceIdPinned": false,
     "sourceId": 94635,
     "sourceType": "competition"
    },
    {
     "datasetId": 7997342,
     "sourceId": 12654709,
     "sourceType": "datasetVersion"
    }
   ],
   "dockerImageVersionId": 31089,
   "isGpuEnabled": false,
   "isInternetEnabled": false,
   "language": "python",
   "sourceType": "notebook"
  },
  "kernelspec": {
   "display_name": "Python 3",
   "language": "python",
   "name": "python3"
  },
  "language_info": {
   "codemirror_mode": {
    "name": "ipython",
    "version": 3
   },
   "file_extension": ".py",
   "mimetype": "text/x-python",
   "name": "python",
   "nbconvert_exporter": "python",
   "pygments_lexer": "ipython3",
   "version": "3.11.13"
  },
  "papermill": {
   "default_parameters": {},
   "duration": 15.166379,
   "end_time": "2025-08-02T23:32:31.516324",
   "environment_variables": {},
   "exception": null,
   "input_path": "__notebook__.ipynb",
   "output_path": "__notebook__.ipynb",
   "parameters": {},
   "start_time": "2025-08-02T23:32:16.349945",
   "version": "2.6.0"
  }
 },
 "nbformat": 4,
 "nbformat_minor": 5
}
